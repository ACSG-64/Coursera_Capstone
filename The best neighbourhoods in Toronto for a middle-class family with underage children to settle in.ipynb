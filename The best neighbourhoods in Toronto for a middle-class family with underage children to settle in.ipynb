{
 "cells": [
  {
   "cell_type": "markdown",
   "metadata": {},
   "source": [
    "# The best neighbourhoods in Toronto for a middle-class family with underage children to settle in."
   ]
  },
  {
   "cell_type": "markdown",
   "metadata": {},
   "source": [
    "Andrés C. Sarmiento G. \n",
    "2020"
   ]
  },
  {
   "cell_type": "markdown",
   "metadata": {},
   "source": [
    "# 1. Introduction\n",
    "Toronto, a city in southeast Canada, capital of the province of Ontario, located in the southern part of the province, on the shores of Lake Ontario and at the mouth of the Humber and Don rivers. \n",
    "The city is the economic, commercial, industrial and cultural centre of the country and the largest metropolitan area in Canada.  Toronto is the largest city in Ontario and the second most populous in Canada. Today, it is a cosmopolitan city that is home to many different cultures and ethnicities.\n",
    "\n",
    "According to immigration data in Canada, for 2010, Ontario received 41% of all immigrants to that country from countries such as the Philippines, India, China, United Kingdom, among others, being this the province with the largest number of immigrants in the country. \n",
    "\n",
    "The causes of migration can be various: the search for a better quality of life and work opportunities, or simply a labour obligation.\n",
    "\n",
    "Given the high level of immigration, this research aims to help families with children who arrive in Toronto to be able to locate themselves permanently with ease in the neighbourhoods that best suit their needs and where the price of the houses is acceptable to their socio-economic status."
   ]
  },
  {
   "cell_type": "markdown",
   "metadata": {},
   "source": [
    "## 2. Data collection\n",
    "In order to solve the problem posed, the following data will be taken into account in the investigation:\n",
    "### Open data:\n",
    "* We will extract the neighborhoods in Toronto from the Wikipedia table provided in the article: https://en.wikipedia.org/wiki/List_of_city-designated_neighbourhoods_in_Toronto\n",
    "* We will examine crime in Toronto in the period 2014-2019 based on official reports from the city police in order to place the family in a safe and healthy environment: http://data.torontopolice.on.ca/datasets/mci-2014-to-2019\n",
    "* We will look at the average value of absorbed and unabsorbed housing in each neighbourhood in Toronto so that families can more easily find housing according to their socio-economic status, thanks to the data provided by CMHC: https://www03.cmhc-schl.gc.ca/hmip-pimh/en/TableMapChart#TableMapChart/2270/3/Toronto\n",
    "* We will review the number of schools near each neighbourhood using data provided by the City of Toronto to ensure that children have access to different educational opportunities: https://open.toronto.ca/dataset/school-locations-all-types/\n",
    "\n",
    "### Foursquare:\n",
    "We will examine if the necessary services exist for each neighborhood for the family as:\n",
    "* Health: \n",
    "   * Hospitals.\n",
    "   * Doctor's offices.\n",
    "* Transportation:\n",
    "    * Subway stations.\n",
    "    * Tramway stations.\n",
    "* Food and shopping:\n",
    "    * Shopping centres\n",
    "* Recreation and sport:\n",
    "    * Parks.\n",
    "    * Children's parks."
   ]
  },
  {
   "cell_type": "code",
   "execution_count": null,
   "metadata": {},
   "outputs": [],
   "source": []
  }
 ],
 "metadata": {
  "kernelspec": {
   "display_name": "Python",
   "language": "python",
   "name": "conda-env-python-py"
  },
  "language_info": {
   "codemirror_mode": {
    "name": "ipython",
    "version": 3
   },
   "file_extension": ".py",
   "mimetype": "text/x-python",
   "name": "python",
   "nbconvert_exporter": "python",
   "pygments_lexer": "ipython3",
   "version": "3.6.7"
  }
 },
 "nbformat": 4,
 "nbformat_minor": 4
}
